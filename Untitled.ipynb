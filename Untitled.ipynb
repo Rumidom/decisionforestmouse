{
 "cells": [
  {
   "cell_type": "code",
   "execution_count": 14,
   "id": "829cc3df-44dc-4a35-a834-013868c73c5e",
   "metadata": {},
   "outputs": [
    {
     "name": "stderr",
     "output_type": "stream",
     "text": [
      "/tmp/ipykernel_170081/2749077491.py:17: OptimizeWarning: Covariance of the parameters could not be estimated\n",
      "  optimizedParameters, pcov = opt.curve_fit(func, xdata, ydata);\n"
     ]
    },
    {
     "data": {
      "image/png": "[encoded data removed]",
      "text/plain": [
       "<Figure size 640x480 with 1 Axes>"
      ]
     },
     "metadata": {},
     "output_type": "display_data"
    }
   ],
   "source": [
    "import matplotlib.pyplot as plt;\n",
    "import numpy as np;\n",
    "import scipy.optimize as opt;\n",
    "\n",
    "# This is the function we are trying to fit to the data.\n",
    "def func(x, a, b, c):\n",
    "     return a * np.exp(-1*b * x) + c\n",
    "    ExponentialGaussianModel\n",
    "# Generate some data, you don't have to do this, as you already have your data\n",
    "xdata = np.array([0,60,120,180,240])\n",
    "ydata = np.array([886,406,151,145,63])\n",
    "xdatafit = np.linspace(0, 300, 50)\n",
    "# Plot the actual data\n",
    "plt.plot(xdata, ydata, \".\", label=\"Data\");\n",
    "\n",
    "# The actual curve fitting happens here\n",
    "optimizedParameters, pcov = opt.curve_fit(func, xdata, ydata);\n",
    "\n",
    "# Use the optimized parameters to plot the best fit\n",
    "plt.plot(xdatafit, func(xdatafit, *optimizedParameters), label=\"fit\");\n",
    "\n",
    "# Show the graph\n",
    "plt.legend();\n",
    "plt.show();"
   ]
  },
  {
   "cell_type": "code",
   "execution_count": 7,
   "id": "da922d06-0569-4d9e-8304-48213115d985",
   "metadata": {},
   "outputs": [
    {
     "data": {
      "text/plain": [
       "np.float64(-241.89999999999998)"
      ]
     },
     "execution_count": 7,
     "metadata": {},
     "output_type": "execute_result"
    }
   ],
   "source": [
    "func(300, *optimizedParameters)"
   ]
  },
  {
   "cell_type": "code",
   "execution_count": 21,
   "id": "75409ee3-0070-404d-bc58-43291551e660",
   "metadata": {},
   "outputs": [
    {
     "name": "stdout",
     "output_type": "stream",
     "text": [
      "[[Model]]\n",
      "    (Model(exponential) + Model(linear, prefix='line_'))\n",
      "[[Fit Statistics]]\n",
      "    # fitting method   = leastsq\n",
      "    # function evals   = 11\n",
      "    # data points      = 5\n",
      "    # variables        = 4\n",
      "    chi-square         = 12763.5000\n",
      "    reduced chi-square = 12763.5000\n",
      "    Akaike info crit   = 47.2245345\n",
      "    Bayesian info crit = 45.6622862\n",
      "    R-squared          = 0.97179130\n",
      "##  Warning: uncertainties could not be estimated:\n",
      "    decay:           at initial value\n",
      "[[Variables]]\n",
      "    amplitude:       436.000001 (init = 1)\n",
      "    decay:           1.00000000 (init = 1)\n",
      "    line_slope:     -1.72500000 (init = 0)\n",
      "    line_intercept:  450.000000 (init = 63)\n"
     ]
    }
   ],
   "source": [
    "import numpy as np\n",
    "import lmfit\n",
    "\n",
    "xdat = np.array([0,60,120,180,240])\n",
    "ydat = np.array([886,406,151,145,63])\n",
    "\n",
    "mod = lmfit.models.ExponentialModel() + lmfit.models.LinearModel(prefix='line_')\n",
    "# make named parameters, giving initial values:\n",
    "pars = mod.make_params(line_intercept=ydata.min(),\n",
    "                         line_slope=0,\n",
    "                        exponatial_decay = -5)\n",
    "out = mod.fit(ydat, pars, x=xdat)\n",
    "\n",
    "print(out.fit_report())"
   ]
  },
  {
   "cell_type": "code",
   "execution_count": 12,
   "id": "311a41d0-ef2b-4c53-8b50-bf213cb437e1",
   "metadata": {},
   "outputs": [
    {
     "data": {
      "text/plain": [
       "array([694.75,   1.  , 191.25])"
      ]
     },
     "execution_count": 12,
     "metadata": {},
     "output_type": "execute_result"
    }
   ],
   "source": [
    "optimizedParameters"
   ]
  },
  {
   "cell_type": "code",
   "execution_count": null,
   "id": "f2acd8a7-8a18-4e9d-9aed-b807807ce088",
   "metadata": {},
   "outputs": [],
   "source": []
  },
  {
   "cell_type": "code",
   "execution_count": null,
   "id": "843a13ac-115d-4d50-be0d-2c23a8b6842d",
   "metadata": {},
   "outputs": [],
   "source": []
  }
 ],
 "metadata": {
  "kernelspec": {
   "display_name": "Python 3 (ipykernel)",
   "language": "python",
   "name": "python3"
  },
  "language_info": {
   "codemirror_mode": {
    "name": "ipython",
    "version": 3
   },
   "file_extension": ".py",
   "mimetype": "text/x-python",
   "name": "python",
   "nbconvert_exporter": "python",
   "pygments_lexer": "ipython3",
   "version": "3.13.2"
  }
 },
 "nbformat": 4,
 "nbformat_minor": 5
}
